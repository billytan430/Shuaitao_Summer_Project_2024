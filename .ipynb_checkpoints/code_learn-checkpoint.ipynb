{
 "cells": [
  {
   "cell_type": "code",
   "execution_count": 1,
   "id": "9c6486a8",
   "metadata": {},
   "outputs": [
    {
     "name": "stdout",
     "output_type": "stream",
     "text": [
      "Original DataFrame:\n",
      "                   close  volume\n",
      "date       ticker               \n",
      "2023-01-01 AAPL      154   10000\n",
      "2023-01-02 AAPL      156   11000\n",
      "2023-01-03 AAPL      158   12000\n",
      "2023-01-01 MSFT      204   20000\n",
      "2023-01-02 MSFT      206   21000\n",
      "2023-01-03 MSFT      208   22000\n"
     ]
    }
   ],
   "source": [
    "import pandas as pd\n",
    "\n",
    "# Sample data\n",
    "data = {\n",
    "    'ticker': ['AAPL', 'AAPL', 'AAPL', 'MSFT', 'MSFT', 'MSFT'],\n",
    "    'date': pd.date_range(start='2023-01-01', periods=3).tolist() * 2,\n",
    "    'close': [154, 156, 158, 204, 206, 208],\n",
    "    'volume': [10000, 11000, 12000, 20000, 21000, 22000]\n",
    "}\n",
    "\n",
    "df = pd.DataFrame(data)\n",
    "df.set_index(['date', 'ticker'], inplace=True)\n",
    "print(\"Original DataFrame:\")\n",
    "print(df)\n"
   ]
  },
  {
   "cell_type": "code",
   "execution_count": 2,
   "id": "07effa6c",
   "metadata": {},
   "outputs": [
    {
     "name": "stdout",
     "output_type": "stream",
     "text": [
      "\n",
      "Grouped by ticker:\n",
      "\n",
      "Group: AAPL\n",
      "                   close  volume\n",
      "date       ticker               \n",
      "2023-01-01 AAPL      154   10000\n",
      "2023-01-02 AAPL      156   11000\n",
      "2023-01-03 AAPL      158   12000\n",
      "\n",
      "Group: MSFT\n",
      "                   close  volume\n",
      "date       ticker               \n",
      "2023-01-01 MSFT      204   20000\n",
      "2023-01-02 MSFT      206   21000\n",
      "2023-01-03 MSFT      208   22000\n"
     ]
    }
   ],
   "source": [
    "# Group by ticker\n",
    "grouped_by_ticker = df.groupby('ticker')\n",
    "\n",
    "print(\"\\nGrouped by ticker:\")\n",
    "for name, group in grouped_by_ticker:\n",
    "    print(f\"\\nGroup: {name}\")\n",
    "    print(group)\n"
   ]
  },
  {
   "cell_type": "code",
   "execution_count": 3,
   "id": "ecf51377",
   "metadata": {},
   "outputs": [
    {
     "name": "stdout",
     "output_type": "stream",
     "text": [
      "\n",
      "Grouped by date and ticker:\n",
      "\n",
      "Group: (Timestamp('2023-01-01 00:00:00'), 'AAPL')\n",
      "                   close  volume\n",
      "date       ticker               \n",
      "2023-01-01 AAPL      154   10000\n",
      "\n",
      "Group: (Timestamp('2023-01-01 00:00:00'), 'MSFT')\n",
      "                   close  volume\n",
      "date       ticker               \n",
      "2023-01-01 MSFT      204   20000\n",
      "\n",
      "Group: (Timestamp('2023-01-02 00:00:00'), 'AAPL')\n",
      "                   close  volume\n",
      "date       ticker               \n",
      "2023-01-02 AAPL      156   11000\n",
      "\n",
      "Group: (Timestamp('2023-01-02 00:00:00'), 'MSFT')\n",
      "                   close  volume\n",
      "date       ticker               \n",
      "2023-01-02 MSFT      206   21000\n",
      "\n",
      "Group: (Timestamp('2023-01-03 00:00:00'), 'AAPL')\n",
      "                   close  volume\n",
      "date       ticker               \n",
      "2023-01-03 AAPL      158   12000\n",
      "\n",
      "Group: (Timestamp('2023-01-03 00:00:00'), 'MSFT')\n",
      "                   close  volume\n",
      "date       ticker               \n",
      "2023-01-03 MSFT      208   22000\n"
     ]
    }
   ],
   "source": [
    "# Group by both date and ticker\n",
    "grouped_by_both = df.groupby(['date', 'ticker'])\n",
    "\n",
    "print(\"\\nGrouped by date and ticker:\")\n",
    "for name, group in grouped_by_both:\n",
    "    print(f\"\\nGroup: {name}\")\n",
    "    print(group)\n"
   ]
  },
  {
   "cell_type": "markdown",
   "id": "6efdf3ed",
   "metadata": {},
   "source": [
    "## Grouping by a Specific Level in Multi-Index"
   ]
  },
  {
   "cell_type": "code",
   "execution_count": 4,
   "id": "cd681ee6",
   "metadata": {},
   "outputs": [
    {
     "name": "stdout",
     "output_type": "stream",
     "text": [
      "\n",
      "Grouped by date:\n",
      "\n",
      "Group: 2023-01-01 00:00:00\n",
      "                   close  volume\n",
      "date       ticker               \n",
      "2023-01-01 AAPL      154   10000\n",
      "           MSFT      204   20000\n",
      "\n",
      "Group: 2023-01-02 00:00:00\n",
      "                   close  volume\n",
      "date       ticker               \n",
      "2023-01-02 AAPL      156   11000\n",
      "           MSFT      206   21000\n",
      "\n",
      "Group: 2023-01-03 00:00:00\n",
      "                   close  volume\n",
      "date       ticker               \n",
      "2023-01-03 AAPL      158   12000\n",
      "           MSFT      208   22000\n"
     ]
    }
   ],
   "source": [
    "# Group by the 'date' level\n",
    "grouped_by_date = df.groupby(level='date')\n",
    "\n",
    "print(\"\\nGrouped by date:\")\n",
    "for name, group in grouped_by_date:\n",
    "    print(f\"\\nGroup: {name}\")\n",
    "    print(group)\n"
   ]
  },
  {
   "cell_type": "code",
   "execution_count": 6,
   "id": "23250760",
   "metadata": {},
   "outputs": [
    {
     "name": "stdout",
     "output_type": "stream",
     "text": [
      "\n",
      "Grouped by ticker (level):\n",
      "\n",
      "Group: AAPL\n",
      "                   close  volume\n",
      "date       ticker               \n",
      "2023-01-01 AAPL      154   10000\n",
      "2023-01-02 AAPL      156   11000\n",
      "2023-01-03 AAPL      158   12000\n",
      "\n",
      "Group: MSFT\n",
      "                   close  volume\n",
      "date       ticker               \n",
      "2023-01-01 MSFT      204   20000\n",
      "2023-01-02 MSFT      206   21000\n",
      "2023-01-03 MSFT      208   22000\n"
     ]
    }
   ],
   "source": [
    "# Group by the 'ticker' level\n",
    "grouped_by_ticker_level = df.groupby(level='ticker')\n",
    "\n",
    "print(\"\\nGrouped by ticker (level):\")\n",
    "for name, group in grouped_by_ticker_level:\n",
    "    print(f\"\\nGroup: {name}\")\n",
    "    print(group)\n"
   ]
  },
  {
   "cell_type": "code",
   "execution_count": null,
   "id": "3cc818b5",
   "metadata": {},
   "outputs": [],
   "source": []
  }
 ],
 "metadata": {
  "kernelspec": {
   "display_name": "Python 3 (ipykernel)",
   "language": "python",
   "name": "python3"
  },
  "language_info": {
   "codemirror_mode": {
    "name": "ipython",
    "version": 3
   },
   "file_extension": ".py",
   "mimetype": "text/x-python",
   "name": "python",
   "nbconvert_exporter": "python",
   "pygments_lexer": "ipython3",
   "version": "3.11.4"
  }
 },
 "nbformat": 4,
 "nbformat_minor": 5
}
